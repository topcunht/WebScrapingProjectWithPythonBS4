{
 "cells": [
  {
   "cell_type": "code",
   "execution_count": 2,
   "id": "7dbe0759",
   "metadata": {},
   "outputs": [],
   "source": [
    "# Import libs\n",
    "\n",
    "import requests\n",
    "import smtplib\n",
    "import time\n",
    "import datetime\n",
    "from bs4 import BeautifulSoup"
   ]
  },
  {
   "cell_type": "code",
   "execution_count": 42,
   "id": "a3960e51",
   "metadata": {},
   "outputs": [],
   "source": [
    "# Connecting to the website\n",
    "\n",
    "URL = \"https://www.amazon.com.tr/iPhone-Kadife-Lansman-Silikon-Sa%C4%9Flayan/dp/B0B52DV1T3/ref=sr_1_16?__mk_tr_TR=%C3%85M%C3%85%C5%BD%C3%95%C3%91&crid=1GN30EZ9VAEXY&dib=eyJ2IjoiMSJ9.fC9QZjSsmHb5G0AARSyu1dbFlKHRicnnZs0XLk5rwBOhFA_VgZrMnDpoOXs6fMpxxmIr4qCWWUuCG9D774EX2GRC6KitFqZsT2N0NE7aNgWy6sFjdi9ZXrOfPFJ-9WOA1KSyzUoZUOLIqoOKcrIwrcJFoaaWbC5rktiawus1W04T2nryHnHYQ90NaoG--64T9wB6MD9yuIze76CTFlpYxG1qFH9PcpZE-TOBRd7bOuxfBobgolLqLnm3W1QaAjdeI9V_6RwW-AUH9VIkaiidD3as8zSa7-0Ug02h8KylnVI.k_HSufR9r_et_7bGunKFKixXtsQL61gUfF7Bo8TjBwg&dib_tag=se&keywords=iphone&qid=1724959462&sprefix=ip%2Caps%2C293&sr=8-16&th=1\"\n",
    "headers = {\"User-Agent\": \"Mozilla/5.0 (Macintosh; Intel Mac OS X 10_15_7) AppleWebKit/605.1.15 (KHTML, like Gecko) Version/17.1 Safari/605.1.15\"}\n",
    "\n",
    "page = requests.get(URL,headers = headers)\n",
    "\n",
    "soup1 = BeautifulSoup(page.content, \"html.parser\")\n",
    "soup2 = BeautifulSoup(soup1.prettify(),\"html.parser\")"
   ]
  },
  {
   "cell_type": "code",
   "execution_count": 46,
   "id": "ad53b09f",
   "metadata": {},
   "outputs": [
    {
     "name": "stdout",
     "output_type": "stream",
     "text": [
      "Apple iPhone 13 ve iphone 14 (6.1) ile uyumlu İçi Kadife Lansman Silikon Kılıf Full Kasa Koruma Sağlayan Kılıf (SİYAH)\n",
      "129,90\n"
     ]
    }
   ],
   "source": [
    "title = soup2.find(id =\"productTitle\").get_text(strip=True)\n",
    "price = soup2.find('span', class_='a-offscreen').get_text(strip=True)\n",
    "price = price[:-2]\n",
    "print(title)\n",
    "print(price)"
   ]
  },
  {
   "cell_type": "code",
   "execution_count": 50,
   "id": "10159cab",
   "metadata": {},
   "outputs": [],
   "source": [
    "import csv\n",
    "\n",
    "today = datetime.date.today()\n",
    "header = [\"Title\", \"Price (TL)\", \"Date\"]\n",
    "data = [title,price,today]\n",
    "\n",
    "with open(\"AmazonWebScraper.csv\", \"w\", newline = \"\", encoding = \"UTF8\") as f:\n",
    "    writer = csv.writer(f)\n",
    "    writer.writerow(header)\n",
    "    writer.writerow(data)"
   ]
  },
  {
   "cell_type": "code",
   "execution_count": 53,
   "id": "0eee3023",
   "metadata": {},
   "outputs": [
    {
     "data": {
      "text/html": [
       "<div>\n",
       "<style scoped>\n",
       "    .dataframe tbody tr th:only-of-type {\n",
       "        vertical-align: middle;\n",
       "    }\n",
       "\n",
       "    .dataframe tbody tr th {\n",
       "        vertical-align: top;\n",
       "    }\n",
       "\n",
       "    .dataframe thead th {\n",
       "        text-align: right;\n",
       "    }\n",
       "</style>\n",
       "<table border=\"1\" class=\"dataframe\">\n",
       "  <thead>\n",
       "    <tr style=\"text-align: right;\">\n",
       "      <th></th>\n",
       "      <th>Title</th>\n",
       "      <th>Price (TL)</th>\n",
       "      <th>Date</th>\n",
       "    </tr>\n",
       "  </thead>\n",
       "  <tbody>\n",
       "    <tr>\n",
       "      <th>0</th>\n",
       "      <td>Apple iPhone 13 ve iphone 14 (6.1) ile uyumlu ...</td>\n",
       "      <td>129,90</td>\n",
       "      <td>2024-08-29</td>\n",
       "    </tr>\n",
       "  </tbody>\n",
       "</table>\n",
       "</div>"
      ],
      "text/plain": [
       "                                               Title Price (TL)        Date\n",
       "0  Apple iPhone 13 ve iphone 14 (6.1) ile uyumlu ...     129,90  2024-08-29"
      ]
     },
     "execution_count": 53,
     "metadata": {},
     "output_type": "execute_result"
    }
   ],
   "source": [
    "import pandas as pd\n",
    "pd.read_csv(r\"AmazonWebScraper.csv\")"
   ]
  },
  {
   "cell_type": "code",
   "execution_count": 54,
   "id": "7d50656f",
   "metadata": {},
   "outputs": [],
   "source": [
    "# Appending the data to csv file\n",
    "\n",
    "with open(\"AmazonWebScraper.csv\", \"a+\", newline = \"\", encoding = \"UTF8\") as f:\n",
    "    writer = csv.writer(f)\n",
    "    writer.writerow(data)"
   ]
  },
  {
   "cell_type": "code",
   "execution_count": 55,
   "id": "49ed2bed",
   "metadata": {},
   "outputs": [],
   "source": [
    "def check_price():\n",
    "    URL = \"https://www.amazon.com.tr/iPhone-Kadife-Lansman-Silikon-Sa%C4%9Flayan/dp/B0B52DV1T3/ref=sr_1_16?__mk_tr_TR=%C3%85M%C3%85%C5%BD%C3%95%C3%91&crid=1GN30EZ9VAEXY&dib=eyJ2IjoiMSJ9.fC9QZjSsmHb5G0AARSyu1dbFlKHRicnnZs0XLk5rwBOhFA_VgZrMnDpoOXs6fMpxxmIr4qCWWUuCG9D774EX2GRC6KitFqZsT2N0NE7aNgWy6sFjdi9ZXrOfPFJ-9WOA1KSyzUoZUOLIqoOKcrIwrcJFoaaWbC5rktiawus1W04T2nryHnHYQ90NaoG--64T9wB6MD9yuIze76CTFlpYxG1qFH9PcpZE-TOBRd7bOuxfBobgolLqLnm3W1QaAjdeI9V_6RwW-AUH9VIkaiidD3as8zSa7-0Ug02h8KylnVI.k_HSufR9r_et_7bGunKFKixXtsQL61gUfF7Bo8TjBwg&dib_tag=se&keywords=iphone&qid=1724959462&sprefix=ip%2Caps%2C293&sr=8-16&th=1\"\n",
    "    headers = {\"User-Agent\": \"Mozilla/5.0 (Macintosh; Intel Mac OS X 10_15_7) AppleWebKit/605.1.15 (KHTML, like Gecko) Version/17.1 Safari/605.1.15\"}\n",
    "\n",
    "    page = requests.get(URL,headers = headers)\n",
    "\n",
    "    soup1 = BeautifulSoup(page.content, \"html.parser\")\n",
    "    soup2 = BeautifulSoup(soup1.prettify(),\"html.parser\")\n",
    "    title = soup2.find(id =\"productTitle\").get_text(strip=True)\n",
    "    price = soup2.find('span', class_='a-offscreen').get_text(strip=True)\n",
    "    price = price[:-2]\n",
    "    today = datetime.date.today()\n",
    "    header = [\"Title\", \"Price (TL)\", \"Date\"]\n",
    "    data = [title,price,today]\n",
    "    with open(\"AmazonWebScraper.csv\", \"a+\", newline = \"\", encoding = \"UTF8\") as f:\n",
    "        writer = csv.writer(f)\n",
    "        writer.writerow(data)\n",
    "    if price < 100:\n",
    "        send_email(URL)"
   ]
  },
  {
   "cell_type": "code",
   "execution_count": 58,
   "id": "1ed4e946",
   "metadata": {},
   "outputs": [],
   "source": [
    "# send email (optional)\n",
    "def send_email(URL):\n",
    "    server = smtplib.SMTP_SSL(\"smtp.gmail.com\", 465)\n",
    "    server.ehlo()\n",
    "    server.login(\"ENTER YOUR E-MAIL\", \"ENTER YOUR PASSWORD\")\n",
    "    \n",
    "    subject = \"This case is below 100TL\"\n",
    "    body = f\"Go and take this case boy! \\n\\n\\n {URL}\"\n",
    "    msg = f\"Subject : {subject}\\n\\n{body}\"\n",
    "    server.sendmail(\n",
    "        \"MAIL ADDRESS\",\n",
    "        msg\n",
    "    )"
   ]
  },
  {
   "cell_type": "code",
   "execution_count": null,
   "id": "a514df34",
   "metadata": {},
   "outputs": [],
   "source": [
    "while (True):\n",
    "    check_price()\n",
    "    time.sleep(30000)"
   ]
  },
  {
   "cell_type": "code",
   "execution_count": 57,
   "id": "ed6d35b7",
   "metadata": {},
   "outputs": [
    {
     "data": {
      "text/html": [
       "<div>\n",
       "<style scoped>\n",
       "    .dataframe tbody tr th:only-of-type {\n",
       "        vertical-align: middle;\n",
       "    }\n",
       "\n",
       "    .dataframe tbody tr th {\n",
       "        vertical-align: top;\n",
       "    }\n",
       "\n",
       "    .dataframe thead th {\n",
       "        text-align: right;\n",
       "    }\n",
       "</style>\n",
       "<table border=\"1\" class=\"dataframe\">\n",
       "  <thead>\n",
       "    <tr style=\"text-align: right;\">\n",
       "      <th></th>\n",
       "      <th>Title</th>\n",
       "      <th>Price (TL)</th>\n",
       "      <th>Date</th>\n",
       "    </tr>\n",
       "  </thead>\n",
       "  <tbody>\n",
       "    <tr>\n",
       "      <th>0</th>\n",
       "      <td>Apple iPhone 13 ve iphone 14 (6.1) ile uyumlu ...</td>\n",
       "      <td>129,90</td>\n",
       "      <td>2024-08-29</td>\n",
       "    </tr>\n",
       "    <tr>\n",
       "      <th>1</th>\n",
       "      <td>Apple iPhone 13 ve iphone 14 (6.1) ile uyumlu ...</td>\n",
       "      <td>129,90</td>\n",
       "      <td>2024-08-29</td>\n",
       "    </tr>\n",
       "    <tr>\n",
       "      <th>2</th>\n",
       "      <td>Apple iPhone 13 ve iphone 14 (6.1) ile uyumlu ...</td>\n",
       "      <td>129,90</td>\n",
       "      <td>2024-08-29</td>\n",
       "    </tr>\n",
       "    <tr>\n",
       "      <th>3</th>\n",
       "      <td>Apple iPhone 13 ve iphone 14 (6.1) ile uyumlu ...</td>\n",
       "      <td>129,90</td>\n",
       "      <td>2024-08-29</td>\n",
       "    </tr>\n",
       "    <tr>\n",
       "      <th>4</th>\n",
       "      <td>Apple iPhone 13 ve iphone 14 (6.1) ile uyumlu ...</td>\n",
       "      <td>129,90</td>\n",
       "      <td>2024-08-29</td>\n",
       "    </tr>\n",
       "  </tbody>\n",
       "</table>\n",
       "</div>"
      ],
      "text/plain": [
       "                                               Title Price (TL)        Date\n",
       "0  Apple iPhone 13 ve iphone 14 (6.1) ile uyumlu ...     129,90  2024-08-29\n",
       "1  Apple iPhone 13 ve iphone 14 (6.1) ile uyumlu ...     129,90  2024-08-29\n",
       "2  Apple iPhone 13 ve iphone 14 (6.1) ile uyumlu ...     129,90  2024-08-29\n",
       "3  Apple iPhone 13 ve iphone 14 (6.1) ile uyumlu ...     129,90  2024-08-29\n",
       "4  Apple iPhone 13 ve iphone 14 (6.1) ile uyumlu ...     129,90  2024-08-29"
      ]
     },
     "execution_count": 57,
     "metadata": {},
     "output_type": "execute_result"
    }
   ],
   "source": [
    "import pandas as pd\n",
    "pd.read_csv(r\"AmazonWebScraper.csv\")"
   ]
  },
  {
   "cell_type": "code",
   "execution_count": null,
   "id": "5e87a73b",
   "metadata": {},
   "outputs": [],
   "source": []
  }
 ],
 "metadata": {
  "kernelspec": {
   "display_name": "Python 3 (ipykernel)",
   "language": "python",
   "name": "python3"
  },
  "language_info": {
   "codemirror_mode": {
    "name": "ipython",
    "version": 3
   },
   "file_extension": ".py",
   "mimetype": "text/x-python",
   "name": "python",
   "nbconvert_exporter": "python",
   "pygments_lexer": "ipython3",
   "version": "3.9.15"
  }
 },
 "nbformat": 4,
 "nbformat_minor": 5
}
